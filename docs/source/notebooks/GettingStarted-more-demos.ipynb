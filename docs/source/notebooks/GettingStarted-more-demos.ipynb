{
 "cells": [
  {
   "attachments": {},
   "cell_type": "markdown",
   "metadata": {},
   "source": [
    "# More examples\n",
    "\n",
    "This page contains more examples for Ablator for you to play around with.\n",
    "\n",
    "- [Train a LeNet-5 with MNIST dataset](https://colab.research.google.com/drive/127l02PicoLxAZ3b_JL9eVpMxQ_UQKgiG?authuser=1#scrollTo=zc0cp8kwcqaq)\n",
    "- [Hyperparameters tuning in Ablator](https://colab.research.google.com/drive/1hzU2a2bBks9uN5hlP4X9RfobQ-n3RqzJ?usp=sharing)\n",
    "- [Use Ablator on VScode](https://github.com/SeanXiaoby/ablator-fork/tree/tutorial-demos/examples/demo-basics-usage-vscode)\n"
   ]
  }
 ],
 "metadata": {
  "language_info": {
   "name": "python"
  },
  "orig_nbformat": 4
 },
 "nbformat": 4,
 "nbformat_minor": 2
}
